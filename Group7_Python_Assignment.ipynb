{
  "nbformat": 4,
  "nbformat_minor": 0,
  "metadata": {
    "colab": {
      "provenance": [],
      "include_colab_link": true
    },
    "kernelspec": {
      "name": "python3",
      "display_name": "Python 3"
    },
    "language_info": {
      "name": "python"
    }
  },
  "cells": [
    {
      "cell_type": "markdown",
      "metadata": {
        "id": "view-in-github",
        "colab_type": "text"
      },
      "source": [
        "<a href=\"https://colab.research.google.com/github/Stoneleiker25/Python-/blob/main/Group7_Python_Assignment.ipynb\" target=\"_parent\"><img src=\"https://colab.research.google.com/assets/colab-badge.svg\" alt=\"Open In Colab\"/></a>"
      ]
    },
    {
      "cell_type": "markdown",
      "source": [
        "Question 1: Write a Python program that asks the user to enter a word or phrase. The program should\n",
        "then check whether the word/phrase contains three consecutive, sequential letters in\n",
        "the alphabet (e.g., \"def\", \"abc\"). Example words/phrases include: “defrost”, “no problem”,\n",
        "“student”, “dabchick”, “crab cakes”, “indefensible”, “deficit”, “burst”, “hijab”, “inopportune”,\n",
        "“monopoly”,  “xenophobia”, “tempestuous”, “cause and effect”, “Hi John”, “call me a cab,\n",
        "Carol”, etc."
      ],
      "metadata": {
        "id": "a5mY42r7rlDo"
      }
    },
    {
      "cell_type": "markdown",
      "source": [
        "a. Use a markdown cell in Jupyter Notebook to introduce your solution, and\n",
        "briefly describe any challenges or issues your team encountered."
      ],
      "metadata": {
        "id": "4pjiukX9r7ft"
      }
    },
    {
      "cell_type": "code",
      "source": [
        "Stone's Code\n",
        "## Problem 1: Sequential, Consecutive Letters Checker\n",
        "def consecutive_letters(input_str):\n",
        "    input_str = input_str.lower().replace(' ', '')\n",
        "    for i in range(len(input_str) - 2):\n",
        "        if ord(input_str[i]) + 1 == ord(input_str[i + 1]) and ord(input_str[i]) + 2 == ord (input_str[i + 2]):\n",
        "            return True\n",
        "    return False\n",
        "\n",
        "def main_problem_1():\n",
        "    \"\"\"Controls the overall flow of problem 1.\"\"\"\n",
        "    user_input = input(\"Enter a word or phrase: \")\n",
        "\n",
        "    if consecutive_letters(user_input):\n",
        "        print(\"The input contains three consecutive, sequential letters.\")\n",
        "    else:\n",
        "        print(\"The input does not contain three consecutive, sequential letters.\")\n",
        "# Run Problem 1 main function\n",
        "main_problem_1()\n",
        ""
      ],
      "metadata": {
        "id": "cwCmNcbFr675"
      },
      "execution_count": null,
      "outputs": []
    },
    {
      "cell_type": "markdown",
      "source": [],
      "metadata": {
        "id": "6yCMR1YdOX8-"
      }
    },
    {
      "cell_type": "markdown",
      "source": [
        "Diana's code."
      ],
      "metadata": {
        "id": "kP8kH_W3xIeU"
      }
    },
    {
      "cell_type": "code",
      "source": [
        "def main():\n",
        "    #Title to explain what is the program is for.\n",
        "    print(\"See if your word or phrase has three consecutive sequential letters in the alphabet. \\n\")\n",
        "    #define word which is the word/phrase the user types in\n",
        "    word =  user_input()\n",
        "    #function to validate user_input (make sure it is a word/phrase)\n",
        "    validate(word)\n",
        "    #function to check if three letters in the word/phrase are in sequential order\n",
        "    check_threes(word)\n",
        "\n",
        "#Creating a function for user into input their word/phrase\n",
        "def user_input():\n",
        "    return input('Please type in a word or phrase. ')\n",
        "\n",
        "#Validating the input\n",
        "def validate(word):\n",
        "    while True:\n",
        "        #Ensure the input is all letters or spaces\n",
        "        if all(letter.isalpha() or letter.isspace() for letter in word):\n",
        "            return word\n",
        "        else:\n",
        "            print('This is not a valid word/phrase.' )\n",
        "            #allow the user to try again if they put an invalid word/phrase\n",
        "            try_again = input('Would you like to try again? Y/N \\n')\n",
        "            if try_again.upper() == 'Y' or try_again.upper() == 'YES':\n",
        "                word = input('Please type in a word or phrase. ')\n",
        "            else:\n",
        "                print('Exiting program.')\n",
        "                exit()\n",
        "\n",
        "def check_threes(word):\n",
        "    #Remove any spaces and commas\n",
        "    word.replace(\" \", \"\")\n",
        "    #join the entire word or phrase into one long string\n",
        "    check_word = \"\".join(word)\n",
        "\n",
        "    #create a loop that will look at three letters and see if they are in sequential order.\n",
        "    for i in range(len(check_word) - 2): #loop until len -2 to avoid out of range index.\n",
        "        #use ord() function to return the unicode code of the specified letter. Here to test each letter that they are in order.\n",
        "        # Display a message to the user indicating whether the input contains three consecutive, sequential letters.\n",
        "        if ord(check_word[i]) + 1 == ord(check_word[i+1])and ord(check_word[i + 1]) + 1 == ord(check_word[i+2]):\n",
        "            print(f\"'{word[i:i+3]}' is in consecutivey seqential order in {word}\")\n",
        "            return\n",
        "        else:\n",
        "            print(f\"{word} does not have any letters are in sequential order.\")\n",
        "\n",
        "if __name__ == '__main__':\n",
        "    main()"
      ],
      "metadata": {
        "id": "8icM5K5MZhIc"
      },
      "execution_count": null,
      "outputs": []
    },
    {
      "cell_type": "markdown",
      "source": [],
      "metadata": {
        "id": "xHfTqX9OS_Kw"
      }
    },
    {
      "cell_type": "code",
      "source": [],
      "metadata": {
        "id": "vB6ZUIxlxNsw"
      },
      "execution_count": null,
      "outputs": []
    },
    {
      "cell_type": "code",
      "source": [],
      "metadata": {
        "id": "oP20fZb55rxb"
      },
      "execution_count": null,
      "outputs": []
    }
  ]
}